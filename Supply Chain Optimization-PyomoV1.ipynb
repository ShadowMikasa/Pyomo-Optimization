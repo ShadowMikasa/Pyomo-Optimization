{
 "cells": [
  {
   "cell_type": "code",
   "execution_count": 1,
   "metadata": {},
   "outputs": [],
   "source": [
    "import pandas as pd\n",
    "import pyomo.environ as pye\n",
    "import pyomo.opt as pyo"
   ]
  },
  {
   "cell_type": "markdown",
   "metadata": {},
   "source": [
    "![imageinfo](https://miro.medium.com/max/1280/1*haKSsgOaPd_oON5IlyAkIg.png)"
   ]
  },
  {
   "cell_type": "markdown",
   "metadata": {
    "collapsed": true
   },
   "source": [
    "## Plant Location  "
   ]
  },
  {
   "cell_type": "markdown",
   "metadata": {},
   "source": [
    "#### Manufacturing variable costs"
   ]
  },
  {
   "cell_type": "code",
   "execution_count": 2,
   "metadata": {},
   "outputs": [
    {
     "data": {
      "text/html": [
       "<div>\n",
       "<style scoped>\n",
       "    .dataframe tbody tr th:only-of-type {\n",
       "        vertical-align: middle;\n",
       "    }\n",
       "\n",
       "    .dataframe tbody tr th {\n",
       "        vertical-align: top;\n",
       "    }\n",
       "\n",
       "    .dataframe thead th {\n",
       "        text-align: right;\n",
       "    }\n",
       "</style>\n",
       "<table border=\"1\" class=\"dataframe\">\n",
       "  <thead>\n",
       "    <tr style=\"text-align: right;\">\n",
       "      <th></th>\n",
       "      <th>USA</th>\n",
       "      <th>Germany</th>\n",
       "      <th>Japan</th>\n",
       "      <th>Brazil</th>\n",
       "      <th>India</th>\n",
       "    </tr>\n",
       "    <tr>\n",
       "      <th>Variable Costs ($/Unit)</th>\n",
       "      <th></th>\n",
       "      <th></th>\n",
       "      <th></th>\n",
       "      <th></th>\n",
       "      <th></th>\n",
       "    </tr>\n",
       "  </thead>\n",
       "  <tbody>\n",
       "    <tr>\n",
       "      <th>USA</th>\n",
       "      <td>12</td>\n",
       "      <td>12</td>\n",
       "      <td>12</td>\n",
       "      <td>12</td>\n",
       "      <td>12</td>\n",
       "    </tr>\n",
       "    <tr>\n",
       "      <th>Germany</th>\n",
       "      <td>13</td>\n",
       "      <td>13</td>\n",
       "      <td>13</td>\n",
       "      <td>13</td>\n",
       "      <td>13</td>\n",
       "    </tr>\n",
       "    <tr>\n",
       "      <th>Japan</th>\n",
       "      <td>10</td>\n",
       "      <td>10</td>\n",
       "      <td>10</td>\n",
       "      <td>10</td>\n",
       "      <td>10</td>\n",
       "    </tr>\n",
       "    <tr>\n",
       "      <th>Brazil</th>\n",
       "      <td>8</td>\n",
       "      <td>8</td>\n",
       "      <td>8</td>\n",
       "      <td>8</td>\n",
       "      <td>8</td>\n",
       "    </tr>\n",
       "    <tr>\n",
       "      <th>India</th>\n",
       "      <td>5</td>\n",
       "      <td>5</td>\n",
       "      <td>5</td>\n",
       "      <td>5</td>\n",
       "      <td>5</td>\n",
       "    </tr>\n",
       "  </tbody>\n",
       "</table>\n",
       "</div>"
      ],
      "text/plain": [
       "                         USA  Germany  Japan  Brazil  India\n",
       "Variable Costs ($/Unit)                                    \n",
       "USA                       12       12     12      12     12\n",
       "Germany                   13       13     13      13     13\n",
       "Japan                     10       10     10      10     10\n",
       "Brazil                     8        8      8       8      8\n",
       "India                      5        5      5       5      5"
      ]
     },
     "execution_count": 2,
     "metadata": {},
     "output_type": "execute_result"
    }
   ],
   "source": [
    "# Import Costs\n",
    "manvar_costs = pd.read_excel(r\"D:\\Downloads\\Chrome Downloads\\supply-chain-optimization-main\\variable_costs.xlsx\", index_col = 0)\n",
    "manvar_costs"
   ]
  },
  {
   "cell_type": "markdown",
   "metadata": {},
   "source": [
    "#### Freight costs"
   ]
  },
  {
   "cell_type": "code",
   "execution_count": 3,
   "metadata": {},
   "outputs": [
    {
     "data": {
      "text/html": [
       "<div>\n",
       "<style scoped>\n",
       "    .dataframe tbody tr th:only-of-type {\n",
       "        vertical-align: middle;\n",
       "    }\n",
       "\n",
       "    .dataframe tbody tr th {\n",
       "        vertical-align: top;\n",
       "    }\n",
       "\n",
       "    .dataframe thead th {\n",
       "        text-align: right;\n",
       "    }\n",
       "</style>\n",
       "<table border=\"1\" class=\"dataframe\">\n",
       "  <thead>\n",
       "    <tr style=\"text-align: right;\">\n",
       "      <th></th>\n",
       "      <th>USA</th>\n",
       "      <th>Germany</th>\n",
       "      <th>Japan</th>\n",
       "      <th>Brazil</th>\n",
       "      <th>India</th>\n",
       "    </tr>\n",
       "    <tr>\n",
       "      <th>Freight Costs ($/Container)</th>\n",
       "      <th></th>\n",
       "      <th></th>\n",
       "      <th></th>\n",
       "      <th></th>\n",
       "      <th></th>\n",
       "    </tr>\n",
       "  </thead>\n",
       "  <tbody>\n",
       "    <tr>\n",
       "      <th>USA</th>\n",
       "      <td>0</td>\n",
       "      <td>12250</td>\n",
       "      <td>1100</td>\n",
       "      <td>16100</td>\n",
       "      <td>8778</td>\n",
       "    </tr>\n",
       "    <tr>\n",
       "      <th>Germany</th>\n",
       "      <td>13335</td>\n",
       "      <td>0</td>\n",
       "      <td>8617</td>\n",
       "      <td>20244</td>\n",
       "      <td>10073</td>\n",
       "    </tr>\n",
       "    <tr>\n",
       "      <th>Japan</th>\n",
       "      <td>15400</td>\n",
       "      <td>22750</td>\n",
       "      <td>0</td>\n",
       "      <td>43610</td>\n",
       "      <td>14350</td>\n",
       "    </tr>\n",
       "    <tr>\n",
       "      <th>Brazil</th>\n",
       "      <td>16450</td>\n",
       "      <td>22050</td>\n",
       "      <td>28000</td>\n",
       "      <td>0</td>\n",
       "      <td>29750</td>\n",
       "    </tr>\n",
       "    <tr>\n",
       "      <th>India</th>\n",
       "      <td>13650</td>\n",
       "      <td>15400</td>\n",
       "      <td>24500</td>\n",
       "      <td>29400</td>\n",
       "      <td>0</td>\n",
       "    </tr>\n",
       "  </tbody>\n",
       "</table>\n",
       "</div>"
      ],
      "text/plain": [
       "                               USA  Germany  Japan  Brazil  India\n",
       "Freight Costs ($/Container)                                      \n",
       "USA                              0    12250   1100   16100   8778\n",
       "Germany                      13335        0   8617   20244  10073\n",
       "Japan                        15400    22750      0   43610  14350\n",
       "Brazil                       16450    22050  28000       0  29750\n",
       "India                        13650    15400  24500   29400      0"
      ]
     },
     "execution_count": 3,
     "metadata": {},
     "output_type": "execute_result"
    }
   ],
   "source": [
    "# Import Costs\n",
    "freight_costs = pd.read_excel(r\"D:\\Downloads\\Chrome Downloads\\supply-chain-optimization-main\\freight_costs.xlsx\", index_col = 0)\n",
    "freight_costs"
   ]
  },
  {
   "cell_type": "markdown",
   "metadata": {},
   "source": [
    "#### Variable Costs"
   ]
  },
  {
   "cell_type": "code",
   "execution_count": 5,
   "metadata": {},
   "outputs": [
    {
     "data": {
      "text/html": [
       "<div>\n",
       "<style scoped>\n",
       "    .dataframe tbody tr th:only-of-type {\n",
       "        vertical-align: middle;\n",
       "    }\n",
       "\n",
       "    .dataframe tbody tr th {\n",
       "        vertical-align: top;\n",
       "    }\n",
       "\n",
       "    .dataframe thead th {\n",
       "        text-align: right;\n",
       "    }\n",
       "</style>\n",
       "<table border=\"1\" class=\"dataframe\">\n",
       "  <thead>\n",
       "    <tr style=\"text-align: right;\">\n",
       "      <th></th>\n",
       "      <th>USA</th>\n",
       "      <th>Germany</th>\n",
       "      <th>Japan</th>\n",
       "      <th>Brazil</th>\n",
       "      <th>India</th>\n",
       "    </tr>\n",
       "    <tr>\n",
       "      <th>Freight Costs ($/Container)</th>\n",
       "      <th></th>\n",
       "      <th></th>\n",
       "      <th></th>\n",
       "      <th></th>\n",
       "      <th></th>\n",
       "    </tr>\n",
       "  </thead>\n",
       "  <tbody>\n",
       "    <tr>\n",
       "      <th>USA</th>\n",
       "      <td>12.000</td>\n",
       "      <td>24.25</td>\n",
       "      <td>13.100</td>\n",
       "      <td>28.100</td>\n",
       "      <td>20.778</td>\n",
       "    </tr>\n",
       "    <tr>\n",
       "      <th>Germany</th>\n",
       "      <td>26.335</td>\n",
       "      <td>13.00</td>\n",
       "      <td>21.617</td>\n",
       "      <td>33.244</td>\n",
       "      <td>23.073</td>\n",
       "    </tr>\n",
       "    <tr>\n",
       "      <th>Japan</th>\n",
       "      <td>25.400</td>\n",
       "      <td>32.75</td>\n",
       "      <td>10.000</td>\n",
       "      <td>53.610</td>\n",
       "      <td>24.350</td>\n",
       "    </tr>\n",
       "    <tr>\n",
       "      <th>Brazil</th>\n",
       "      <td>24.450</td>\n",
       "      <td>30.05</td>\n",
       "      <td>36.000</td>\n",
       "      <td>8.000</td>\n",
       "      <td>37.750</td>\n",
       "    </tr>\n",
       "    <tr>\n",
       "      <th>India</th>\n",
       "      <td>18.650</td>\n",
       "      <td>20.40</td>\n",
       "      <td>29.500</td>\n",
       "      <td>34.400</td>\n",
       "      <td>5.000</td>\n",
       "    </tr>\n",
       "  </tbody>\n",
       "</table>\n",
       "</div>"
      ],
      "text/plain": [
       "                                USA  Germany   Japan  Brazil   India\n",
       "Freight Costs ($/Container)                                         \n",
       "USA                          12.000    24.25  13.100  28.100  20.778\n",
       "Germany                      26.335    13.00  21.617  33.244  23.073\n",
       "Japan                        25.400    32.75  10.000  53.610  24.350\n",
       "Brazil                       24.450    30.05  36.000   8.000  37.750\n",
       "India                        18.650    20.40  29.500  34.400   5.000"
      ]
     },
     "execution_count": 5,
     "metadata": {},
     "output_type": "execute_result"
    }
   ],
   "source": [
    "# Variable Costs\n",
    "var_cost = freight_costs/1000 + manvar_costs \n",
    "var_cost"
   ]
  },
  {
   "cell_type": "markdown",
   "metadata": {},
   "source": [
    "#### Fixed Costs"
   ]
  },
  {
   "cell_type": "code",
   "execution_count": 6,
   "metadata": {},
   "outputs": [
    {
     "data": {
      "text/html": [
       "<div>\n",
       "<style scoped>\n",
       "    .dataframe tbody tr th:only-of-type {\n",
       "        vertical-align: middle;\n",
       "    }\n",
       "\n",
       "    .dataframe tbody tr th {\n",
       "        vertical-align: top;\n",
       "    }\n",
       "\n",
       "    .dataframe thead th {\n",
       "        text-align: right;\n",
       "    }\n",
       "</style>\n",
       "<table border=\"1\" class=\"dataframe\">\n",
       "  <thead>\n",
       "    <tr style=\"text-align: right;\">\n",
       "      <th></th>\n",
       "      <th>Low</th>\n",
       "      <th>High</th>\n",
       "    </tr>\n",
       "  </thead>\n",
       "  <tbody>\n",
       "    <tr>\n",
       "      <th>USA</th>\n",
       "      <td>6500</td>\n",
       "      <td>9500</td>\n",
       "    </tr>\n",
       "    <tr>\n",
       "      <th>Germany</th>\n",
       "      <td>4980</td>\n",
       "      <td>7270</td>\n",
       "    </tr>\n",
       "    <tr>\n",
       "      <th>Japan</th>\n",
       "      <td>6230</td>\n",
       "      <td>9100</td>\n",
       "    </tr>\n",
       "    <tr>\n",
       "      <th>Brazil</th>\n",
       "      <td>3230</td>\n",
       "      <td>4730</td>\n",
       "    </tr>\n",
       "    <tr>\n",
       "      <th>India</th>\n",
       "      <td>2110</td>\n",
       "      <td>6160</td>\n",
       "    </tr>\n",
       "  </tbody>\n",
       "</table>\n",
       "</div>"
      ],
      "text/plain": [
       "          Low  High\n",
       "USA      6500  9500\n",
       "Germany  4980  7270\n",
       "Japan    6230  9100\n",
       "Brazil   3230  4730\n",
       "India    2110  6160"
      ]
     },
     "execution_count": 6,
     "metadata": {},
     "output_type": "execute_result"
    }
   ],
   "source": [
    "# Import Costs\n",
    "fixed_costs = pd.read_excel(r\"D:\\Downloads\\Chrome Downloads\\supply-chain-optimization-main\\fixed_cost.xlsx\", index_col = 0)\n",
    "fixed_costs"
   ]
  },
  {
   "cell_type": "markdown",
   "metadata": {},
   "source": [
    "#### Plants Capacity"
   ]
  },
  {
   "cell_type": "code",
   "execution_count": 7,
   "metadata": {},
   "outputs": [
    {
     "data": {
      "text/html": [
       "<div>\n",
       "<style scoped>\n",
       "    .dataframe tbody tr th:only-of-type {\n",
       "        vertical-align: middle;\n",
       "    }\n",
       "\n",
       "    .dataframe tbody tr th {\n",
       "        vertical-align: top;\n",
       "    }\n",
       "\n",
       "    .dataframe thead th {\n",
       "        text-align: right;\n",
       "    }\n",
       "</style>\n",
       "<table border=\"1\" class=\"dataframe\">\n",
       "  <thead>\n",
       "    <tr style=\"text-align: right;\">\n",
       "      <th></th>\n",
       "      <th>Low</th>\n",
       "      <th>High</th>\n",
       "    </tr>\n",
       "    <tr>\n",
       "      <th>Capacity (kUnits/month)</th>\n",
       "      <th></th>\n",
       "      <th></th>\n",
       "    </tr>\n",
       "  </thead>\n",
       "  <tbody>\n",
       "    <tr>\n",
       "      <th>USA</th>\n",
       "      <td>500</td>\n",
       "      <td>1500</td>\n",
       "    </tr>\n",
       "    <tr>\n",
       "      <th>Germany</th>\n",
       "      <td>500</td>\n",
       "      <td>1500</td>\n",
       "    </tr>\n",
       "    <tr>\n",
       "      <th>Japan</th>\n",
       "      <td>500</td>\n",
       "      <td>1500</td>\n",
       "    </tr>\n",
       "    <tr>\n",
       "      <th>Brazil</th>\n",
       "      <td>500</td>\n",
       "      <td>1500</td>\n",
       "    </tr>\n",
       "    <tr>\n",
       "      <th>India</th>\n",
       "      <td>500</td>\n",
       "      <td>3000</td>\n",
       "    </tr>\n",
       "  </tbody>\n",
       "</table>\n",
       "</div>"
      ],
      "text/plain": [
       "                         Low  High\n",
       "Capacity (kUnits/month)           \n",
       "USA                      500  1500\n",
       "Germany                  500  1500\n",
       "Japan                    500  1500\n",
       "Brazil                   500  1500\n",
       "India                    500  3000"
      ]
     },
     "execution_count": 7,
     "metadata": {},
     "output_type": "execute_result"
    }
   ],
   "source": [
    "# Two types of plants: Low Capacity and High Capacity Plant\n",
    "cap = pd.read_excel(r\"D:\\Downloads\\Chrome Downloads\\supply-chain-optimization-main\\capacity.xlsx\", index_col = 0)\n",
    "cap"
   ]
  },
  {
   "cell_type": "markdown",
   "metadata": {},
   "source": [
    "#### Demand "
   ]
  },
  {
   "cell_type": "code",
   "execution_count": 8,
   "metadata": {},
   "outputs": [
    {
     "data": {
      "text/html": [
       "<div>\n",
       "<style scoped>\n",
       "    .dataframe tbody tr th:only-of-type {\n",
       "        vertical-align: middle;\n",
       "    }\n",
       "\n",
       "    .dataframe tbody tr th {\n",
       "        vertical-align: top;\n",
       "    }\n",
       "\n",
       "    .dataframe thead th {\n",
       "        text-align: right;\n",
       "    }\n",
       "</style>\n",
       "<table border=\"1\" class=\"dataframe\">\n",
       "  <thead>\n",
       "    <tr style=\"text-align: right;\">\n",
       "      <th></th>\n",
       "      <th>Demand</th>\n",
       "    </tr>\n",
       "    <tr>\n",
       "      <th>(Units/month)</th>\n",
       "      <th></th>\n",
       "    </tr>\n",
       "  </thead>\n",
       "  <tbody>\n",
       "    <tr>\n",
       "      <th>USA</th>\n",
       "      <td>2800000</td>\n",
       "    </tr>\n",
       "    <tr>\n",
       "      <th>Germany</th>\n",
       "      <td>90000</td>\n",
       "    </tr>\n",
       "    <tr>\n",
       "      <th>Japan</th>\n",
       "      <td>1700000</td>\n",
       "    </tr>\n",
       "    <tr>\n",
       "      <th>Brazil</th>\n",
       "      <td>145000</td>\n",
       "    </tr>\n",
       "    <tr>\n",
       "      <th>India</th>\n",
       "      <td>160000</td>\n",
       "    </tr>\n",
       "  </tbody>\n",
       "</table>\n",
       "</div>"
      ],
      "text/plain": [
       "                Demand\n",
       "(Units/month)         \n",
       "USA            2800000\n",
       "Germany          90000\n",
       "Japan          1700000\n",
       "Brazil          145000\n",
       "India           160000"
      ]
     },
     "execution_count": 8,
     "metadata": {},
     "output_type": "execute_result"
    }
   ],
   "source": [
    "# -- Demand\n",
    "demand = pd.read_excel(r\"D:\\Downloads\\Chrome Downloads\\supply-chain-optimization-main\\demand.xlsx\", index_col = 0)\n",
    "demand"
   ]
  },
  {
   "cell_type": "markdown",
   "metadata": {},
   "source": [
    "![image info](https://miro.medium.com/max/1400/1*rtP7otnvgY2nT-ONqtAM6A.png)"
   ]
  },
  {
   "cell_type": "markdown",
   "metadata": {},
   "source": [
    "# Creating Lists and Dicts"
   ]
  },
  {
   "cell_type": "code",
   "execution_count": 9,
   "metadata": {},
   "outputs": [],
   "source": [
    "locations = [\"USA\", \"Germany\", \"Japan\", \"Brazil\", \"India\"]\n",
    "size = [\"Low\", \"High\"]"
   ]
  },
  {
   "cell_type": "code",
   "execution_count": 10,
   "metadata": {},
   "outputs": [
    {
     "data": {
      "text/plain": [
       "{'USA': 2800000,\n",
       " 'Germany': 90000,\n",
       " 'Japan': 1700000,\n",
       " 'Brazil': 145000,\n",
       " 'India': 160000}"
      ]
     },
     "execution_count": 10,
     "metadata": {},
     "output_type": "execute_result"
    }
   ],
   "source": [
    "demand_dic = dict({i:demand.loc[i,\"Demand\"] for i in locations})\n",
    "demand_dic"
   ]
  },
  {
   "cell_type": "code",
   "execution_count": 11,
   "metadata": {},
   "outputs": [
    {
     "data": {
      "text/plain": [
       "{('USA', 'USA'): 12.0,\n",
       " ('USA', 'Germany'): 24.25,\n",
       " ('USA', 'Japan'): 13.1,\n",
       " ('USA', 'Brazil'): 28.1,\n",
       " ('USA', 'India'): 20.778,\n",
       " ('Germany', 'USA'): 26.335,\n",
       " ('Germany', 'Germany'): 13.0,\n",
       " ('Germany', 'Japan'): 21.617,\n",
       " ('Germany', 'Brazil'): 33.244,\n",
       " ('Germany', 'India'): 23.073,\n",
       " ('Japan', 'USA'): 25.4,\n",
       " ('Japan', 'Germany'): 32.75,\n",
       " ('Japan', 'Japan'): 10.0,\n",
       " ('Japan', 'Brazil'): 53.61,\n",
       " ('Japan', 'India'): 24.35,\n",
       " ('Brazil', 'USA'): 24.45,\n",
       " ('Brazil', 'Germany'): 30.05,\n",
       " ('Brazil', 'Japan'): 36.0,\n",
       " ('Brazil', 'Brazil'): 8.0,\n",
       " ('Brazil', 'India'): 37.75,\n",
       " ('India', 'USA'): 18.65,\n",
       " ('India', 'Germany'): 20.4,\n",
       " ('India', 'Japan'): 29.5,\n",
       " ('India', 'Brazil'): 34.4,\n",
       " ('India', 'India'): 5.0}"
      ]
     },
     "execution_count": 11,
     "metadata": {},
     "output_type": "execute_result"
    }
   ],
   "source": [
    "prod_vcost = dict(var_cost.stack())\n",
    "prod_vcost"
   ]
  },
  {
   "cell_type": "code",
   "execution_count": 12,
   "metadata": {},
   "outputs": [
    {
     "data": {
      "text/plain": [
       "{('USA', 'Low'): 6500000,\n",
       " ('USA', 'High'): 9500000,\n",
       " ('Germany', 'Low'): 4980000,\n",
       " ('Germany', 'High'): 7270000,\n",
       " ('Japan', 'Low'): 6230000,\n",
       " ('Japan', 'High'): 9100000,\n",
       " ('Brazil', 'Low'): 3230000,\n",
       " ('Brazil', 'High'): 4730000,\n",
       " ('India', 'Low'): 2110000,\n",
       " ('India', 'High'): 6160000}"
      ]
     },
     "execution_count": 12,
     "metadata": {},
     "output_type": "execute_result"
    }
   ],
   "source": [
    "prod_size = dict(fixed_costs.stack()*1000)\n",
    "prod_size"
   ]
  },
  {
   "cell_type": "code",
   "execution_count": 13,
   "metadata": {},
   "outputs": [
    {
     "data": {
      "text/plain": [
       "{('USA', 'Low'): 500000,\n",
       " ('USA', 'High'): 1500000,\n",
       " ('Germany', 'Low'): 500000,\n",
       " ('Germany', 'High'): 1500000,\n",
       " ('Japan', 'Low'): 500000,\n",
       " ('Japan', 'High'): 1500000,\n",
       " ('Brazil', 'Low'): 500000,\n",
       " ('Brazil', 'High'): 1500000,\n",
       " ('India', 'Low'): 500000,\n",
       " ('India', 'High'): 3000000}"
      ]
     },
     "execution_count": 13,
     "metadata": {},
     "output_type": "execute_result"
    }
   ],
   "source": [
    "cap_dic = dict(cap.stack()*1000)\n",
    "cap_dic"
   ]
  },
  {
   "cell_type": "markdown",
   "metadata": {},
   "source": [
    "# Model Creation"
   ]
  },
  {
   "cell_type": "code",
   "execution_count": 14,
   "metadata": {},
   "outputs": [],
   "source": [
    "model = pye.ConcreteModel()"
   ]
  },
  {
   "cell_type": "markdown",
   "metadata": {},
   "source": [
    "### Lists as Sets"
   ]
  },
  {
   "cell_type": "code",
   "execution_count": 15,
   "metadata": {},
   "outputs": [],
   "source": [
    "model.locations = pye.Set(initialize = locations)\n",
    "model.size = pye.Set(initialize = size)"
   ]
  },
  {
   "cell_type": "markdown",
   "metadata": {},
   "source": [
    "### Dict as Param"
   ]
  },
  {
   "cell_type": "code",
   "execution_count": 16,
   "metadata": {},
   "outputs": [],
   "source": [
    "model.prod_vcost = pye.Param(model.locations, model.locations, initialize = prod_vcost)\n",
    "model.prod_fcost = pye.Param(model.locations, model.size, initialize = prod_size)\n",
    "model.cap_h_l = pye.Param(model.locations, model.size, initialize = cap_dic)\n",
    "model.dem = pye.Param(model.locations, initialize = demand_dic)"
   ]
  },
  {
   "cell_type": "markdown",
   "metadata": {},
   "source": [
    "### Desicion making Variables as Variables"
   ]
  },
  {
   "cell_type": "code",
   "execution_count": 17,
   "metadata": {},
   "outputs": [],
   "source": [
    "model.prod_cap = pye.Var(model.locations, model.size, domain = pye.Binary)\n",
    "model.x = pye.Var(model.locations, model.locations, domain = pye.NonNegativeReals)"
   ]
  },
  {
   "cell_type": "markdown",
   "metadata": {},
   "source": [
    "### Contraints"
   ]
  },
  {
   "cell_type": "code",
   "execution_count": 18,
   "metadata": {},
   "outputs": [],
   "source": [
    "def con_satisfaction(model, j):\n",
    "    return sum(model.x[i, j] for i in model.locations) >= model.dem[j]\n",
    "model.con_satisfaction = pye.Constraint(model.locations, rule=con_satisfaction)"
   ]
  },
  {
   "cell_type": "code",
   "execution_count": 19,
   "metadata": {},
   "outputs": [],
   "source": [
    "def con_transportation(model, i):\n",
    "    return sum(model.x[i,j] for j in model.locations) <= sum(model.cap_h_l[i,j] * model.prod_cap[i,j] for j in model.size)\n",
    "model.con_transportation = pye.Constraint(model.locations, rule=con_transportation)"
   ]
  },
  {
   "cell_type": "markdown",
   "metadata": {},
   "source": [
    "### Objective - Mixed Interger equation"
   ]
  },
  {
   "cell_type": "markdown",
   "metadata": {},
   "source": [
    "# Capacitated Facility Location\n",
    "To demonstrate blocks, let's setup and solve an instance of the CFL model.\n",
    "\n",
    "Sets:\n",
    "- $I$: supply sites, indexed by $i$\n",
    "- $J$: demand sites, indexed by $j$\n",
    "\n",
    "Parameters:\n",
    "- $s_i$: supply capacity of supply site $i$\n",
    "- $d_j$: demand required by demand site $j$\n",
    "- $f_i$: fixed cost to open supply site $i$\n",
    "- $c_{ij}$: variable cost to transport from supply site $i$ to demand site $j$\n",
    "\n",
    "Variables:\n",
    "- $x_{ij}$ - quantity of product to ship from supply site $i$ to demand site $j$\n",
    "- $y_i$ - 0/1 decision variable indicating that supply site $i$ is producing\n",
    "\n",
    "Model:\n",
    "$$\n",
    "\\begin{alignat*}{3}\n",
    "\\text{minimize  }  & \\sum_{i \\in I} f_i y_i + \\sum_{i \\in I} \\sum_{j \\in J} c_{ij} x_{ij} \\\\\n",
    "\\text{subject to  }\n",
    "& \\sum_{i \\in I} x_{ij} \\ge d_j && \\forall j \\in J \\\\\n",
    "& \\sum_{j \\in J} x_{ij} \\le s_i y_i && \\forall i \\in I \\\\\n",
    "& x \\in \\mathbb{R}_+^{|I| \\times |J|} && \\\\\n",
    "& y \\in \\{0, 1\\}^{|I|} && \\\\\n",
    "\\end{alignat*}\n",
    "$$"
   ]
  },
  {
   "cell_type": "code",
   "execution_count": 20,
   "metadata": {},
   "outputs": [],
   "source": [
    "expr = sum(model.prod_fcost[i,j] * model.prod_cap[i,j] for i in model.locations for j in model.size) + sum(model.prod_vcost[i,j]*model.x[i,j] for i in model.locations for j in model.locations)\n",
    "model.objective = pye.Objective(expr = expr)"
   ]
  },
  {
   "cell_type": "markdown",
   "metadata": {},
   "source": [
    "### Selecting Solver and optimization"
   ]
  },
  {
   "cell_type": "code",
   "execution_count": 21,
   "metadata": {},
   "outputs": [
    {
     "name": "stdout",
     "output_type": "stream",
     "text": [
      "GLPSOL--GLPK LP/MIP Solver 5.0\n",
      "Parameter(s) specified in the command line:\n",
      " --write C:\\Users\\rshib\\AppData\\Local\\Temp\\tmp4hzziiq2.glpk.raw --wglp C:\\Users\\rshib\\AppData\\Local\\Temp\\tmpdxm9zlds.glpk.glp\n",
      " --cpxlp C:\\Users\\rshib\\AppData\\Local\\Temp\\tmpara__sj2.pyomo.lp\n",
      "Reading problem data from 'C:\\Users\\rshib\\AppData\\Local\\Temp\\tmpara__sj2.pyomo.lp'...\n",
      "C:\\Users\\rshib\\AppData\\Local\\Temp\\tmpara__sj2.pyomo.lp:173: warning: lower bound of variable 'x1' redefined\n",
      "C:\\Users\\rshib\\AppData\\Local\\Temp\\tmpara__sj2.pyomo.lp:173: warning: upper bound of variable 'x1' redefined\n",
      "11 rows, 36 columns, 61 non-zeros\n",
      "10 integer variables, all of which are binary\n",
      "183 lines were read\n",
      "Writing problem data to 'C:\\Users\\rshib\\AppData\\Local\\Temp\\tmpdxm9zlds.glpk.glp'...\n",
      "183 lines were written\n",
      "GLPK Integer Optimizer 5.0\n",
      "11 rows, 36 columns, 61 non-zeros\n",
      "10 integer variables, all of which are binary\n",
      "Preprocessing...\n",
      "10 rows, 35 columns, 60 non-zeros\n",
      "10 integer variables, all of which are binary\n",
      "Scaling...\n",
      " A: min|aij| =  1.000e+00  max|aij| =  3.000e+06  ratio =  3.000e+06\n",
      "GM: min|aij| =  1.000e+00  max|aij| =  1.000e+00  ratio =  1.000e+00\n",
      "EQ: min|aij| =  1.000e+00  max|aij| =  1.000e+00  ratio =  1.000e+00\n",
      "2N: min|aij| =  7.153e-01  max|aij| =  1.000e+00  ratio =  1.398e+00\n",
      "Constructing initial basis...\n",
      "Size of triangular part is 10\n",
      "Solving LP relaxation...\n",
      "GLPK Simplex Optimizer 5.0\n",
      "10 rows, 35 columns, 60 non-zeros\n",
      "      0: obj =   0.000000000e+00 inf =   4.895e+06 (5)\n",
      "     16: obj =   1.331625933e+08 inf =   0.000e+00 (0)\n",
      "*    29: obj =   8.722696667e+07 inf =   0.000e+00 (0)\n",
      "OPTIMAL LP SOLUTION FOUND\n",
      "Integer optimization begins...\n",
      "Long-step dual simplex will be used\n",
      "+    29: mip =     not found yet >=              -inf        (1; 0)\n",
      "+    41: >>>>>   9.976125000e+07 >=   9.131006667e+07   8.5% (6; 0)\n",
      "+    54: >>>>>   9.768100000e+07 >=   9.298100000e+07   4.8% (6; 2)\n",
      "+    55: >>>>>   9.298100000e+07 >=   9.298100000e+07   0.0% (4; 5)\n",
      "+    55: mip =   9.298100000e+07 >=     tree is empty   0.0% (0; 15)\n",
      "INTEGER OPTIMAL SOLUTION FOUND\n",
      "Time used:   0.0 secs\n",
      "Memory used: 0.1 Mb (90895 bytes)\n",
      "Writing MIP solution to 'C:\\Users\\rshib\\AppData\\Local\\Temp\\tmp4hzziiq2.glpk.raw'...\n",
      "56 lines were written\n"
     ]
    }
   ],
   "source": [
    "solver = pyo.SolverFactory(\"glpk\")\n",
    "results = solver.solve(model,tee=True)"
   ]
  },
  {
   "cell_type": "markdown",
   "metadata": {},
   "source": [
    "# Optimal quantity to produce and supply to minimize cost"
   ]
  },
  {
   "cell_type": "code",
   "execution_count": 22,
   "metadata": {},
   "outputs": [
    {
     "name": "stdout",
     "output_type": "stream",
     "text": [
      "Model unknown\n",
      "\n",
      "  Variables:\n",
      "    prod_cap : Size=10, Index=prod_cap_index\n",
      "        Key                 : Lower : Value : Upper : Fixed : Stale : Domain\n",
      "         ('Brazil', 'High') :     0 :   0.0 :     1 : False : False : Binary\n",
      "          ('Brazil', 'Low') :     0 :   1.0 :     1 : False : False : Binary\n",
      "        ('Germany', 'High') :     0 :   0.0 :     1 : False : False : Binary\n",
      "         ('Germany', 'Low') :     0 :   0.0 :     1 : False : False : Binary\n",
      "          ('India', 'High') :     0 :   1.0 :     1 : False : False : Binary\n",
      "           ('India', 'Low') :     0 :   0.0 :     1 : False : False : Binary\n",
      "          ('Japan', 'High') :     0 :   1.0 :     1 : False : False : Binary\n",
      "           ('Japan', 'Low') :     0 :   0.0 :     1 : False : False : Binary\n",
      "            ('USA', 'High') :     0 :   1.0 :     1 : False : False : Binary\n",
      "             ('USA', 'Low') :     0 :   0.0 :     1 : False : False : Binary\n",
      "    x : Size=25, Index=x_index\n",
      "        Key                    : Lower : Value     : Upper : Fixed : Stale : Domain\n",
      "          ('Brazil', 'Brazil') :     0 :  145000.0 :  None : False : False : NonNegativeReals\n",
      "         ('Brazil', 'Germany') :     0 :       0.0 :  None : False : False : NonNegativeReals\n",
      "           ('Brazil', 'India') :     0 :       0.0 :  None : False : False : NonNegativeReals\n",
      "           ('Brazil', 'Japan') :     0 :       0.0 :  None : False : False : NonNegativeReals\n",
      "             ('Brazil', 'USA') :     0 :       0.0 :  None : False : False : NonNegativeReals\n",
      "         ('Germany', 'Brazil') :     0 :       0.0 :  None : False : False : NonNegativeReals\n",
      "        ('Germany', 'Germany') :     0 :       0.0 :  None : False : False : NonNegativeReals\n",
      "          ('Germany', 'India') :     0 :       0.0 :  None : False : False : NonNegativeReals\n",
      "          ('Germany', 'Japan') :     0 :       0.0 :  None : False : False : NonNegativeReals\n",
      "            ('Germany', 'USA') :     0 :       0.0 :  None : False : False : NonNegativeReals\n",
      "           ('India', 'Brazil') :     0 :       0.0 :  None : False : False : NonNegativeReals\n",
      "          ('India', 'Germany') :     0 :   90000.0 :  None : False : False : NonNegativeReals\n",
      "            ('India', 'India') :     0 :  160000.0 :  None : False : False : NonNegativeReals\n",
      "            ('India', 'Japan') :     0 :       0.0 :  None : False : False : NonNegativeReals\n",
      "              ('India', 'USA') :     0 : 1500000.0 :  None : False : False : NonNegativeReals\n",
      "           ('Japan', 'Brazil') :     0 :       0.0 :  None : False : False : NonNegativeReals\n",
      "          ('Japan', 'Germany') :     0 :       0.0 :  None : False : False : NonNegativeReals\n",
      "            ('Japan', 'India') :     0 :       0.0 :  None : False : False : NonNegativeReals\n",
      "            ('Japan', 'Japan') :     0 : 1500000.0 :  None : False : False : NonNegativeReals\n",
      "              ('Japan', 'USA') :     0 :       0.0 :  None : False : False : NonNegativeReals\n",
      "             ('USA', 'Brazil') :     0 :       0.0 :  None : False : False : NonNegativeReals\n",
      "            ('USA', 'Germany') :     0 :       0.0 :  None : False : False : NonNegativeReals\n",
      "              ('USA', 'India') :     0 :       0.0 :  None : False : False : NonNegativeReals\n",
      "              ('USA', 'Japan') :     0 :  200000.0 :  None : False : False : NonNegativeReals\n",
      "                ('USA', 'USA') :     0 : 1300000.0 :  None : False : False : NonNegativeReals\n",
      "\n",
      "  Objectives:\n",
      "    objective : Size=1, Index=None, Active=True\n",
      "        Key  : Active : Value\n",
      "        None :   True : 92981000.0\n",
      "\n",
      "  Constraints:\n",
      "    con_satisfaction : Size=5\n",
      "        Key     : Lower     : Body      : Upper\n",
      "         Brazil :  145000.0 :  145000.0 :  None\n",
      "        Germany :   90000.0 :   90000.0 :  None\n",
      "          India :  160000.0 :  160000.0 :  None\n",
      "          Japan : 1700000.0 : 1700000.0 :  None\n",
      "            USA : 2800000.0 : 2800000.0 :  None\n",
      "    con_transportation : Size=5\n",
      "        Key     : Lower : Body       : Upper\n",
      "         Brazil :  None :  -355000.0 :   0.0\n",
      "        Germany :  None :        0.0 :   0.0\n",
      "          India :  None : -1250000.0 :   0.0\n",
      "          Japan :  None :        0.0 :   0.0\n",
      "            USA :  None :        0.0 :   0.0\n"
     ]
    }
   ],
   "source": [
    "model.display()"
   ]
  },
  {
   "cell_type": "markdown",
   "metadata": {},
   "source": [
    "### No. of objectives, constraints & variables"
   ]
  },
  {
   "cell_type": "code",
   "execution_count": 23,
   "metadata": {},
   "outputs": [
    {
     "name": "stdout",
     "output_type": "stream",
     "text": [
      "# ==========================================================\n",
      "# = Solver Results                                         =\n",
      "# ==========================================================\n",
      "# ----------------------------------------------------------\n",
      "#   Problem Information\n",
      "# ----------------------------------------------------------\n",
      "Problem: \n",
      "- Name: unknown\n",
      "  Lower bound: 92981000.0\n",
      "  Upper bound: 92981000.0\n",
      "  Number of objectives: 1\n",
      "  Number of constraints: 11\n",
      "  Number of variables: 36\n",
      "  Number of nonzeros: 61\n",
      "  Sense: minimize\n",
      "# ----------------------------------------------------------\n",
      "#   Solver Information\n",
      "# ----------------------------------------------------------\n",
      "Solver: \n",
      "- Status: ok\n",
      "  Termination condition: optimal\n",
      "  Statistics: \n",
      "    Branch and bound: \n",
      "      Number of bounded subproblems: 15\n",
      "      Number of created subproblems: 15\n",
      "  Error rc: 0\n",
      "  Time: 0.09254646301269531\n",
      "# ----------------------------------------------------------\n",
      "#   Solution Information\n",
      "# ----------------------------------------------------------\n",
      "Solution: \n",
      "- number of solutions: 0\n",
      "  number of solutions displayed: 0\n"
     ]
    }
   ],
   "source": [
    "results.write()"
   ]
  },
  {
   "cell_type": "code",
   "execution_count": null,
   "metadata": {},
   "outputs": [],
   "source": []
  }
 ],
 "metadata": {
  "kernelspec": {
   "display_name": "Python 3 (ipykernel)",
   "language": "python",
   "name": "python3"
  },
  "language_info": {
   "codemirror_mode": {
    "name": "ipython",
    "version": 3
   },
   "file_extension": ".py",
   "mimetype": "text/x-python",
   "name": "python",
   "nbconvert_exporter": "python",
   "pygments_lexer": "ipython3",
   "version": "3.8.12"
  }
 },
 "nbformat": 4,
 "nbformat_minor": 2
}
